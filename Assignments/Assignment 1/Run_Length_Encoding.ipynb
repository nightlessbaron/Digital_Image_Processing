{
 "cells": [
  {
   "cell_type": "code",
   "execution_count": 29,
   "metadata": {},
   "outputs": [
    {
     "name": "stdout",
     "output_type": "stream",
     "text": [
      "[1 1 1 0 0 0 1 1 0 1]\n",
      "[1 3 0 3 1 2 0 1 1 1]\n",
      "Compression Ratio: 1.0\n"
     ]
    }
   ],
   "source": [
    "import numpy as np\n",
    "\n",
    "sequence = np.random.randint(low = 0, high = 2, size = 10)\n",
    "rle = np.zeros(1, dtype = int)\n",
    "i = 1\n",
    "\n",
    "dict = {0:0, 1:0}\n",
    "dict[sequence[0]] = 1\n",
    "\n",
    "while i < 10:\n",
    "    if sequence[i] != sequence[i-1]:\n",
    "        rle = np.append(rle, sequence[i-1])\n",
    "        rle = np.append(rle, dict[sequence[i-1]])\n",
    "        dict[sequence[i-1]] = 0\n",
    "    dict[sequence[i]] += 1\n",
    "    i += 1\n",
    "rle = np.append(rle, sequence[i-1])\n",
    "rle = np.append(rle, dict[sequence[i-1]])\n",
    "rle = np.delete(rle, 0)\n",
    "\n",
    "print(sequence)\n",
    "print(rle)\n",
    "\n",
    "if len(rle) <= len(sequence):\n",
    "    print(\"Compression Ratio:\", len(rle)/len(sequence))\n",
    "else:\n",
    "    print(\"Negative Compression!\")"
   ]
  }
 ],
 "metadata": {
  "kernelspec": {
   "display_name": "Python 3",
   "language": "python",
   "name": "python3"
  },
  "language_info": {
   "codemirror_mode": {
    "name": "ipython",
    "version": 3
   },
   "file_extension": ".py",
   "mimetype": "text/x-python",
   "name": "python",
   "nbconvert_exporter": "python",
   "pygments_lexer": "ipython3",
   "version": "3.6.5"
  }
 },
 "nbformat": 4,
 "nbformat_minor": 2
}
